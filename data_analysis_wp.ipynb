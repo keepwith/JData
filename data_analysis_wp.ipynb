{
 "cells": [
  {
   "cell_type": "markdown",
   "metadata": {},
   "source": [
    "# 京东JData大数据竞赛（2）- 数据分析"
   ]
  },
  {
   "cell_type": "code",
   "execution_count": null,
   "metadata": {
    "collapsed": true
   },
   "outputs": [],
   "source": [
    "# 导入相关包\n",
    "%matplotlib inline\n",
    "# 绘图包\n",
    "import matplotlib\n",
    "import matplotlib.pyplot as plt\n",
    "import numpy as np\n",
    "import pandas as pd"
   ]
  },
  {
   "cell_type": "code",
   "execution_count": 2,
   "metadata": {
    "collapsed": true
   },
   "outputs": [],
   "source": [
    "#定义文件名\n",
    "ACTION_201602_FILE = \"data/JData_Action_201602.csv\"\n",
    "ACTION_201603_FILE = \"data/JData_Action_201603.csv\"\n",
    "ACTION_201604_FILE = \"data/JData_Action_201604.csv\"\n",
    "COMMENT_FILE = \"data/JData_Comment.csv\"\n",
    "PRODUCT_FILE = \"data/JData_Product.csv\"\n",
    "USER_FILE = \"data/JData_User.csv\"\n",
    "USER_TABLE_FILE = \"data/User_table.csv\"\n",
    "ITEM_TABLE_FILE = \"data/Item_table.csv\""
   ]
  },
  {
   "cell_type": "markdown",
   "metadata": {},
   "source": [
    "## 周一到周日各天购买情况"
   ]
  },
  {
   "cell_type": "code",
   "execution_count": 3,
   "metadata": {
    "collapsed": true
   },
   "outputs": [],
   "source": [
    "# 提取购买(type=4)的行为数据\n",
    "def get_from_action_data(fname, chunk_size=100000):\n",
    "    reader = pd.read_csv(fname, header=0, iterator=True)\n",
    "    chunks = []\n",
    "    loop = True\n",
    "    while loop:\n",
    "        try:\n",
    "            chunk = reader.get_chunk(chunk_size)[\n",
    "                [\"user_id\", \"sku_id\", \"type\", \"time\"]]\n",
    "            chunks.append(chunk)\n",
    "        except StopIteration:\n",
    "            loop = False\n",
    "            print(\"Iteration is stopped\")\n",
    "\n",
    "    df_ac = pd.concat(chunks, ignore_index=True)\n",
    "    # type=4,为购买\n",
    "    df_ac = df_ac[df_ac['type'] == 4]\n",
    "\n",
    "    return df_ac[[\"user_id\", \"sku_id\", \"time\"]]"
   ]
  },
  {
   "cell_type": "code",
   "execution_count": 4,
   "metadata": {
    "collapsed": false
   },
   "outputs": [
    {
     "name": "stdout",
     "output_type": "stream",
     "text": [
      "Iteration is stopped\n",
      "Iteration is stopped\n",
      "Iteration is stopped\n"
     ]
    }
   ],
   "source": [
    "df_ac = []\n",
    "df_ac.append(get_from_action_data(fname=ACTION_201602_FILE))\n",
    "df_ac.append(get_from_action_data(fname=ACTION_201603_FILE))\n",
    "df_ac.append(get_from_action_data(fname=ACTION_201604_FILE))\n",
    "df_ac = pd.concat(df_ac, ignore_index=True)"
   ]
  },
  {
   "cell_type": "code",
   "execution_count": 5,
   "metadata": {
    "collapsed": false
   },
   "outputs": [
    {
     "name": "stdout",
     "output_type": "stream",
     "text": [
      "user_id     int64\n",
      "sku_id      int64\n",
      "time       object\n",
      "dtype: object\n"
     ]
    }
   ],
   "source": [
    "print(df_ac.dtypes)"
   ]
  },
  {
   "cell_type": "code",
   "execution_count": 6,
   "metadata": {
    "collapsed": true
   },
   "outputs": [],
   "source": [
    "# 将time字段转换为datetime类型\n",
    "df_ac['time'] = pd.to_datetime(df_ac['time'])\n",
    "\n",
    "# 使用lambda匿名函数将时间time转换为星期(周一为1, 周日为７)\n",
    "df_ac['time'] = df_ac['time'].apply(lambda x: x.weekday() + 1)"
   ]
  },
  {
   "cell_type": "code",
   "execution_count": 22,
   "metadata": {
    "collapsed": false
   },
   "outputs": [],
   "source": [
    "# 周一到周日每天购买用户个数\n",
    "df_user = df_ac.groupby('time')['user_id'].nunique()\n",
    "df_user = df_user.to_frame().reset_index()\n",
    "df_user.columns = ['weekday', 'user_num']"
   ]
  },
  {
   "cell_type": "code",
   "execution_count": 23,
   "metadata": {
    "collapsed": true
   },
   "outputs": [],
   "source": [
    "# 周一到周日每天购买商品个数\n",
    "df_item = df_ac.groupby('time')['sku_id'].nunique()\n",
    "df_item = df_item.to_frame().reset_index()\n",
    "df_item.columns = ['weekday', 'item_num']"
   ]
  },
  {
   "cell_type": "code",
   "execution_count": 26,
   "metadata": {
    "collapsed": false
   },
   "outputs": [],
   "source": [
    "# 周一到周日每天购买记录个数\n",
    "df_ui = df_ac.groupby('time', as_index=False).size()\n",
    "df_ui = df_ui.to_frame().reset_index()\n",
    "df_ui.columns = ['weekday', 'user_item_num']"
   ]
  },
  {
   "cell_type": "code",
   "execution_count": 28,
   "metadata": {
    "collapsed": false
   },
   "outputs": [
    {
     "data": {
      "text/plain": [
       "<matplotlib.legend.Legend at 0x5bdcf438>"
      ]
     },
     "execution_count": 28,
     "metadata": {},
     "output_type": "execute_result"
    },
    {
     "data": {
      "image/png": "[encoded data removed]",
      "text/plain": [
       "<matplotlib.figure.Figure at 0x275c22b0>"
      ]
     },
     "metadata": {},
     "output_type": "display_data"
    }
   ],
   "source": [
    "# 条形宽度\n",
    "bar_width = 0.2\n",
    "# 透明度\n",
    "opacity = 0.4\n",
    "\n",
    "plt.bar(df_user['weekday'], df_user['user_num'], bar_width, \n",
    "        alpha=opacity, color='c', label='user')\n",
    "plt.bar(df_item['weekday']+bar_width, df_item['item_num'], \n",
    "        bar_width, alpha=opacity, color='g', label='item')\n",
    "plt.bar(df_ui['weekday']+bar_width*2, df_ui['user_item_num'], \n",
    "        bar_width, alpha=opacity, color='m', label='user_item')\n",
    "\n",
    "plt.xlabel('weekday')\n",
    "plt.ylabel('number')\n",
    "plt.title('A Week Purchase Table')\n",
    "plt.xticks(df_user['weekday'] + bar_width * 3 / 2., (1,2,3,4,5,6,7))\n",
    "plt.tight_layout() \n",
    "plt.legend(prop={'size':10})"
   ]
  },
  {
   "cell_type": "markdown",
   "metadata": {},
   "source": [
    "分析：周六，周日购买量较少"
   ]
  },
  {
   "cell_type": "markdown",
   "metadata": {},
   "source": [
    "## 一个月中各天购买量"
   ]
  },
  {
   "cell_type": "markdown",
   "metadata": {},
   "source": [
    "### 2016年2月"
   ]
  },
  {
   "cell_type": "code",
   "execution_count": 29,
   "metadata": {
    "collapsed": false
   },
   "outputs": [
    {
     "name": "stdout",
     "output_type": "stream",
     "text": [
      "Iteration is stopped\n"
     ]
    }
   ],
   "source": [
    "df_ac = get_from_action_data(fname=ACTION_201602_FILE)\n",
    "\n",
    "# 将time字段转换为datetime类型并使用lambda匿名函数将时间time转换为天\n",
    "df_ac['time'] = pd.to_datetime(df_ac['time']).apply(lambda x: x.day)"
   ]
  },
  {
   "cell_type": "code",
   "execution_count": 30,
   "metadata": {
    "collapsed": true
   },
   "outputs": [],
   "source": [
    "df_user = df_ac.groupby('time')['user_id'].nunique()\n",
    "df_user = df_user.to_frame().reset_index()\n",
    "df_user.columns = ['day', 'user_num']\n",
    "\n",
    "df_item = df_ac.groupby('time')['sku_id'].nunique()\n",
    "df_item = df_item.to_frame().reset_index()\n",
    "df_item.columns = ['day', 'item_num']\n",
    "\n",
    "df_ui = df_ac.groupby('time', as_index=False).size()\n",
    "df_ui = df_ui.to_frame().reset_index()\n",
    "df_ui.columns = ['day', 'user_item_num']"
   ]
  },
  {
   "cell_type": "code",
   "execution_count": 31,
   "metadata": {
    "collapsed": false
   },
   "outputs": [
    {
     "data": {
      "text/plain": [
       "<matplotlib.legend.Legend at 0x169cb898>"
      ]
     },
     "execution_count": 31,
     "metadata": {},
     "output_type": "execute_result"
    },
    {
     "data": {
      "image/png": "[encoded data removed]",
      "text/plain": [
       "<matplotlib.figure.Figure at 0x15f87668>"
      ]
     },
     "metadata": {},
     "output_type": "display_data"
    }
   ],
   "source": [
    "# 条形宽度\n",
    "bar_width = 0.2\n",
    "# 透明度\n",
    "opacity = 0.4\n",
    "# 天数\n",
    "day_range = range(1,len(df_user['day']) + 1, 1)\n",
    "# 设置图片大小\n",
    "plt.figure(figsize=(14,10))\n",
    "\n",
    "plt.bar(df_user['day'], df_user['user_num'], bar_width, \n",
    "        alpha=opacity, color='c', label='user')\n",
    "plt.bar(df_item['day']+bar_width, df_item['item_num'], \n",
    "        bar_width, alpha=opacity, color='g', label='item')\n",
    "plt.bar(df_ui['day']+bar_width*2, df_ui['user_item_num'], \n",
    "        bar_width, alpha=opacity, color='m', label='user_item')\n",
    "\n",
    "plt.xlabel('day')\n",
    "plt.ylabel('number')\n",
    "plt.title('February Purchase Table')\n",
    "plt.xticks(df_user['day'] + bar_width * 3 / 2., day_range)\n",
    "# plt.ylim(0, 80)\n",
    "plt.tight_layout() \n",
    "plt.legend(prop={'size':9})"
   ]
  },
  {
   "cell_type": "markdown",
   "metadata": {},
   "source": [
    "分析： 2月份5,6,7,8,9,10 这几天购买量非常少，原因可能是中国农历春节，快递不营业"
   ]
  },
  {
   "cell_type": "markdown",
   "metadata": {},
   "source": [
    "### 2016年3月"
   ]
  },
  {
   "cell_type": "code",
   "execution_count": 32,
   "metadata": {
    "collapsed": false
   },
   "outputs": [
    {
     "name": "stdout",
     "output_type": "stream",
     "text": [
      "Iteration is stopped\n"
     ]
    }
   ],
   "source": [
    "df_ac = get_from_action_data(fname=ACTION_201603_FILE)\n",
    "\n",
    "# 将time字段转换为datetime类型并使用lambda匿名函数将时间time转换为天\n",
    "df_ac['time'] = pd.to_datetime(df_ac['time']).apply(lambda x: x.day)"
   ]
  },
  {
   "cell_type": "code",
   "execution_count": 33,
   "metadata": {
    "collapsed": true
   },
   "outputs": [],
   "source": [
    "df_user = df_ac.groupby('time')['user_id'].nunique()\n",
    "df_user = df_user.to_frame().reset_index()\n",
    "df_user.columns = ['day', 'user_num']\n",
    "\n",
    "df_item = df_ac.groupby('time')['sku_id'].nunique()\n",
    "df_item = df_item.to_frame().reset_index()\n",
    "df_item.columns = ['day', 'item_num']\n",
    "\n",
    "df_ui = df_ac.groupby('time', as_index=False).size()\n",
    "df_ui = df_ui.to_frame().reset_index()\n",
    "df_ui.columns = ['day', 'user_item_num']"
   ]
  },
  {
   "cell_type": "code",
   "execution_count": 34,
   "metadata": {
    "collapsed": false
   },
   "outputs": [
    {
     "data": {
      "text/plain": [
       "<matplotlib.legend.Legend at 0x145535f8>"
      ]
     },
     "execution_count": 34,
     "metadata": {},
     "output_type": "execute_result"
    },
    {
     "data": {
      "image/png": "[encoded data removed]",
      "text/plain": [
       "<matplotlib.figure.Figure at 0xc4aa470>"
      ]
     },
     "metadata": {},
     "output_type": "display_data"
    }
   ],
   "source": [
    "# 条形宽度\n",
    "bar_width = 0.2\n",
    "# 透明度\n",
    "opacity = 0.4\n",
    "# 天数\n",
    "day_range = range(1,len(df_user['day']) + 1, 1)\n",
    "# 设置图片大小\n",
    "plt.figure(figsize=(14,10))\n",
    "\n",
    "plt.bar(df_user['day'], df_user['user_num'], bar_width, \n",
    "        alpha=opacity, color='c', label='user')\n",
    "plt.bar(df_item['day']+bar_width, df_item['item_num'], \n",
    "        bar_width, alpha=opacity, color='g', label='item')\n",
    "plt.bar(df_ui['day']+bar_width*2, df_ui['user_item_num'], \n",
    "        bar_width, alpha=opacity, color='m', label='user_item')\n",
    "\n",
    "plt.xlabel('day')\n",
    "plt.ylabel('number')\n",
    "plt.title('March Purchase Table')\n",
    "plt.xticks(df_user['day'] + bar_width * 3 / 2., day_range)\n",
    "# plt.ylim(0, 80)\n",
    "plt.tight_layout() \n",
    "plt.legend(prop={'size':9})"
   ]
  },
  {
   "cell_type": "markdown",
   "metadata": {},
   "source": [
    "分析：3月份14,15,16不知名节日，造成购物大井喷，总体来看，购物记录多于2月份"
   ]
  },
  {
   "cell_type": "markdown",
   "metadata": {},
   "source": [
    "### 2016年4月"
   ]
  },
  {
   "cell_type": "code",
   "execution_count": 35,
   "metadata": {
    "collapsed": false
   },
   "outputs": [
    {
     "name": "stdout",
     "output_type": "stream",
     "text": [
      "Iteration is stopped\n"
     ]
    }
   ],
   "source": [
    "df_ac = get_from_action_data(fname=ACTION_201604_FILE)\n",
    "\n",
    "# 将time字段转换为datetime类型并使用lambda匿名函数将时间time转换为天\n",
    "df_ac['time'] = pd.to_datetime(df_ac['time']).apply(lambda x: x.day)"
   ]
  },
  {
   "cell_type": "code",
   "execution_count": 36,
   "metadata": {
    "collapsed": true
   },
   "outputs": [],
   "source": [
    "df_user = df_ac.groupby('time')['user_id'].nunique()\n",
    "df_user = df_user.to_frame().reset_index()\n",
    "df_user.columns = ['day', 'user_num']\n",
    "\n",
    "df_item = df_ac.groupby('time')['sku_id'].nunique()\n",
    "df_item = df_item.to_frame().reset_index()\n",
    "df_item.columns = ['day', 'item_num']\n",
    "\n",
    "df_ui = df_ac.groupby('time', as_index=False).size()\n",
    "df_ui = df_ui.to_frame().reset_index()\n",
    "df_ui.columns = ['day', 'user_item_num']"
   ]
  },
  {
   "cell_type": "code",
   "execution_count": 37,
   "metadata": {
    "collapsed": false
   },
   "outputs": [
    {
     "data": {
      "text/plain": [
       "<matplotlib.legend.Legend at 0x14531e10>"
      ]
     },
     "execution_count": 37,
     "metadata": {},
     "output_type": "execute_result"
    },
    {
     "data": {
      "image/png": "[encoded data removed]",
      "text/plain": [
       "<matplotlib.figure.Figure at 0x15f87080>"
      ]
     },
     "metadata": {},
     "output_type": "display_data"
    }
   ],
   "source": [
    "# 条形宽度\n",
    "bar_width = 0.2\n",
    "# 透明度\n",
    "opacity = 0.4\n",
    "# 天数\n",
    "day_range = range(1,len(df_user['day']) + 1, 1)\n",
    "# 设置图片大小\n",
    "plt.figure(figsize=(14,10))\n",
    "\n",
    "plt.bar(df_user['day'], df_user['user_num'], bar_width, \n",
    "        alpha=opacity, color='c', label='user')\n",
    "plt.bar(df_item['day']+bar_width, df_item['item_num'], \n",
    "        bar_width, alpha=opacity, color='g', label='item')\n",
    "plt.bar(df_ui['day']+bar_width*2, df_ui['user_item_num'], \n",
    "        bar_width, alpha=opacity, color='m', label='user_item')\n",
    "\n",
    "plt.xlabel('day')\n",
    "plt.ylabel('number')\n",
    "plt.title('April Purchase Table')\n",
    "plt.xticks(df_user['day'] + bar_width * 3 / 2., day_range)\n",
    "# plt.ylim(0, 80)\n",
    "plt.tight_layout() \n",
    "plt.legend(prop={'size':9})"
   ]
  },
  {
   "cell_type": "markdown",
   "metadata": {},
   "source": [
    "分析：一脸懵逼中...可能又有啥节日？ 还是说每个月中旬都有较强的购物欲望？"
   ]
  },
  {
   "cell_type": "markdown",
   "metadata": {},
   "source": [
    "## 商品类别销售统计"
   ]
  },
  {
   "cell_type": "markdown",
   "metadata": {},
   "source": [
    "### 周一到周日各商品类别销售情况"
   ]
  },
  {
   "cell_type": "code",
   "execution_count": 38,
   "metadata": {
    "collapsed": true
   },
   "outputs": [],
   "source": [
    "# 从行为记录中提取商品类别数据\n",
    "def get_from_action_data(fname, chunk_size=100000):\n",
    "    reader = pd.read_csv(fname, header=0, iterator=True)\n",
    "    chunks = []\n",
    "    loop = True\n",
    "    while loop:\n",
    "        try:\n",
    "            chunk = reader.get_chunk(chunk_size)[\n",
    "                [\"cate\", \"brand\", \"type\", \"time\"]]\n",
    "            chunks.append(chunk)\n",
    "        except StopIteration:\n",
    "            loop = False\n",
    "            print(\"Iteration is stopped\")\n",
    "\n",
    "    df_ac = pd.concat(chunks, ignore_index=True)\n",
    "    # type=4,为购买\n",
    "    df_ac = df_ac[df_ac['type'] == 4]\n",
    "\n",
    "    return df_ac[[\"cate\", \"brand\", \"type\", \"time\"]]"
   ]
  },
  {
   "cell_type": "code",
   "execution_count": 39,
   "metadata": {
    "collapsed": false
   },
   "outputs": [
    {
     "name": "stdout",
     "output_type": "stream",
     "text": [
      "Iteration is stopped\n",
      "Iteration is stopped\n",
      "Iteration is stopped\n"
     ]
    }
   ],
   "source": [
    "df_ac = []\n",
    "df_ac.append(get_from_action_data(fname=ACTION_201602_FILE))\n",
    "df_ac.append(get_from_action_data(fname=ACTION_201603_FILE))\n",
    "df_ac.append(get_from_action_data(fname=ACTION_201604_FILE))\n",
    "df_ac = pd.concat(df_ac, ignore_index=True)"
   ]
  },
  {
   "cell_type": "code",
   "execution_count": 40,
   "metadata": {
    "collapsed": true
   },
   "outputs": [],
   "source": [
    "# 将time字段转换为datetime类型\n",
    "df_ac['time'] = pd.to_datetime(df_ac['time'])\n",
    "\n",
    "# 使用lambda匿名函数将时间time转换为星期(周一为1, 周日为７)\n",
    "df_ac['time'] = df_ac['time'].apply(lambda x: x.weekday() + 1)"
   ]
  },
  {
   "cell_type": "code",
   "execution_count": 41,
   "metadata": {
    "collapsed": false
   },
   "outputs": [
    {
     "data": {
      "text/html": [
       "<div>\n",
       "<table border=\"1\" class=\"dataframe\">\n",
       "  <thead>\n",
       "    <tr style=\"text-align: right;\">\n",
       "      <th></th>\n",
       "      <th>cate</th>\n",
       "      <th>brand</th>\n",
       "      <th>type</th>\n",
       "      <th>time</th>\n",
       "    </tr>\n",
       "    <tr>\n",
       "      <th>cate</th>\n",
       "      <th></th>\n",
       "      <th></th>\n",
       "      <th></th>\n",
       "      <th></th>\n",
       "    </tr>\n",
       "  </thead>\n",
       "  <tbody>\n",
       "    <tr>\n",
       "      <th>4</th>\n",
       "      <td>9326</td>\n",
       "      <td>9326</td>\n",
       "      <td>9326</td>\n",
       "      <td>9326</td>\n",
       "    </tr>\n",
       "    <tr>\n",
       "      <th>5</th>\n",
       "      <td>8138</td>\n",
       "      <td>8138</td>\n",
       "      <td>8138</td>\n",
       "      <td>8138</td>\n",
       "    </tr>\n",
       "    <tr>\n",
       "      <th>6</th>\n",
       "      <td>6982</td>\n",
       "      <td>6982</td>\n",
       "      <td>6982</td>\n",
       "      <td>6982</td>\n",
       "    </tr>\n",
       "    <tr>\n",
       "      <th>7</th>\n",
       "      <td>6214</td>\n",
       "      <td>6214</td>\n",
       "      <td>6214</td>\n",
       "      <td>6214</td>\n",
       "    </tr>\n",
       "    <tr>\n",
       "      <th>8</th>\n",
       "      <td>13281</td>\n",
       "      <td>13281</td>\n",
       "      <td>13281</td>\n",
       "      <td>13281</td>\n",
       "    </tr>\n",
       "    <tr>\n",
       "      <th>9</th>\n",
       "      <td>4104</td>\n",
       "      <td>4104</td>\n",
       "      <td>4104</td>\n",
       "      <td>4104</td>\n",
       "    </tr>\n",
       "    <tr>\n",
       "      <th>10</th>\n",
       "      <td>189</td>\n",
       "      <td>189</td>\n",
       "      <td>189</td>\n",
       "      <td>189</td>\n",
       "    </tr>\n",
       "    <tr>\n",
       "      <th>11</th>\n",
       "      <td>18</td>\n",
       "      <td>18</td>\n",
       "      <td>18</td>\n",
       "      <td>18</td>\n",
       "    </tr>\n",
       "  </tbody>\n",
       "</table>\n",
       "</div>"
      ],
      "text/plain": [
       "       cate  brand   type   time\n",
       "cate                            \n",
       "4      9326   9326   9326   9326\n",
       "5      8138   8138   8138   8138\n",
       "6      6982   6982   6982   6982\n",
       "7      6214   6214   6214   6214\n",
       "8     13281  13281  13281  13281\n",
       "9      4104   4104   4104   4104\n",
       "10      189    189    189    189\n",
       "11       18     18     18     18"
      ]
     },
     "execution_count": 41,
     "metadata": {},
     "output_type": "execute_result"
    }
   ],
   "source": [
    "# 观察有几个类别商品\n",
    "df_ac.groupby(df_ac['cate']).count()"
   ]
  },
  {
   "cell_type": "code",
   "execution_count": 79,
   "metadata": {
    "collapsed": false
   },
   "outputs": [
    {
     "data": {
      "text/plain": [
       "<matplotlib.axes._subplots.AxesSubplot at 0x57a674e0>"
      ]
     },
     "execution_count": 79,
     "metadata": {},
     "output_type": "execute_result"
    },
    {
     "data": {
      "image/png": "[encoded data removed]",
      "text/plain": [
       "<matplotlib.figure.Figure at 0x5e7eea90>"
      ]
     },
     "metadata": {},
     "output_type": "display_data"
    }
   ],
   "source": [
    "# 周一到周日每天购买商品类别4的数量统计\n",
    "df_product = df_ac['brand'].groupby([df_ac['time'],df_ac['cate']]).count()\n",
    "df_product=df_product.unstack()\n",
    "df_product.plot(kind='bar',title='Cate Purchase Table in a Week',figsize=(14,10))"
   ]
  },
  {
   "cell_type": "markdown",
   "metadata": {},
   "source": [
    "分析：星期二买类别8的最多，星期天最少。"
   ]
  },
  {
   "cell_type": "markdown",
   "metadata": {},
   "source": [
    "### 每月各类商品销售情况（只关注商品8）"
   ]
  },
  {
   "cell_type": "markdown",
   "metadata": {},
   "source": [
    "### 2016年2，3，4月"
   ]
  },
  {
   "cell_type": "code",
   "execution_count": 91,
   "metadata": {
    "collapsed": false
   },
   "outputs": [
    {
     "name": "stdout",
     "output_type": "stream",
     "text": [
      "Iteration is stopped\n",
      "Iteration is stopped\n",
      "Iteration is stopped\n"
     ]
    }
   ],
   "source": [
    "df_ac2 = get_from_action_data(fname=ACTION_201602_FILE)\n",
    "\n",
    "# 将time字段转换为datetime类型并使用lambda匿名函数将时间time转换为天\n",
    "df_ac2['time'] = pd.to_datetime(df_ac2['time']).apply(lambda x: x.day)\n",
    "df_ac3 = get_from_action_data(fname=ACTION_201603_FILE)\n",
    "\n",
    "# 将time字段转换为datetime类型并使用lambda匿名函数将时间time转换为天\n",
    "df_ac3['time'] = pd.to_datetime(df_ac3['time']).apply(lambda x: x.day)\n",
    "df_ac4 = get_from_action_data(fname=ACTION_201604_FILE)\n",
    "\n",
    "# 将time字段转换为datetime类型并使用lambda匿名函数将时间time转换为天\n",
    "df_ac4['time'] = pd.to_datetime(df_ac4['time']).apply(lambda x: x.day)"
   ]
  },
  {
   "cell_type": "code",
   "execution_count": 92,
   "metadata": {
    "collapsed": false
   },
   "outputs": [],
   "source": [
    "dc_cate2 = df_ac2[df_ac2['cate']==8]\n",
    "dc_cate2 = dc_cate2['brand'].groupby(dc_cate2['time']).count()\n",
    "dc_cate2 = dc_cate2.to_frame().reset_index()\n",
    "dc_cate2.columns = ['day', 'product_num']\n",
    "\n",
    "dc_cate3 = df_ac3[df_ac3['cate']==8]\n",
    "dc_cate3 = dc_cate3['brand'].groupby(dc_cate3['time']).count()\n",
    "dc_cate3 = dc_cate3.to_frame().reset_index()\n",
    "dc_cate3.columns = ['day', 'product_num']\n",
    "\n",
    "dc_cate4 = df_ac4[df_ac4['cate']==8]\n",
    "dc_cate4 = dc_cate4['brand'].groupby(dc_cate4['time']).count()\n",
    "dc_cate4 = dc_cate4.to_frame().reset_index()\n",
    "dc_cate4.columns = ['day', 'product_num']"
   ]
  },
  {
   "cell_type": "code",
   "execution_count": 93,
   "metadata": {
    "collapsed": false
   },
   "outputs": [
    {
     "data": {
      "text/plain": [
       "<matplotlib.legend.Legend at 0x44ebbe80>"
      ]
     },
     "execution_count": 93,
     "metadata": {},
     "output_type": "execute_result"
    },
    {
     "data": {
      "image/png": "[encoded data removed]",
      "text/plain": [
       "<matplotlib.figure.Figure at 0x66a7a8d0>"
      ]
     },
     "metadata": {},
     "output_type": "display_data"
    }
   ],
   "source": [
    "# 条形宽度\n",
    "bar_width = 0.2\n",
    "# 透明度\n",
    "opacity = 0.4\n",
    "# 天数\n",
    "day_range = range(1,len(dc_cate3['day']) + 1, 1)\n",
    "# 设置图片大小\n",
    "plt.figure(figsize=(14,10))\n",
    "\n",
    "plt.bar(dc_cate2['day'], dc_cate2['product_num'], bar_width, \n",
    "        alpha=opacity, color='c', label='February')\n",
    "plt.bar(dc_cate3['day']+bar_width, dc_cate3['product_num'], \n",
    "        bar_width, alpha=opacity, color='g', label='March')\n",
    "plt.bar(dc_cate4['day']+bar_width*2, dc_cate4['product_num'], \n",
    "        bar_width, alpha=opacity, color='m', label='April')\n",
    "\n",
    "plt.xlabel('day')\n",
    "plt.ylabel('number')\n",
    "plt.title('Cate-8 Purchase Table')\n",
    "plt.xticks(dc_cate3['day'] + bar_width * 3 / 2., day_range)\n",
    "# plt.ylim(0, 80)\n",
    "plt.tight_layout() \n",
    "plt.legend(prop={'size':9})"
   ]
  },
  {
   "cell_type": "markdown",
   "metadata": {},
   "source": [
    "分析：2月份对类别8商品的购买普遍偏低，3，4月份普遍偏高，3月15日购买极其多！可以对比3月份的销售记录，发现类别8将近占了3月15日总销售的一半！同时发现，3,4月份类别8销售记录在前半个月特别相似，除了4月8号，9号和3月15号。"
   ]
  },
  {
   "cell_type": "markdown",
   "metadata": {},
   "source": [
    "### 查看特定用户对特定商品的的轨迹"
   ]
  },
  {
   "cell_type": "code",
   "execution_count": 94,
   "metadata": {
    "collapsed": true
   },
   "outputs": [],
   "source": [
    "def spec_ui_action_data(fname, user_id, item_id, chunk_size=100000):\n",
    "    reader = pd.read_csv(fname, header=0, iterator=True)\n",
    "    chunks = []\n",
    "    loop = True\n",
    "    while loop:\n",
    "        try:\n",
    "            chunk = reader.get_chunk(chunk_size)[\n",
    "                [\"user_id\", \"sku_id\", \"type\", \"time\"]]\n",
    "            chunks.append(chunk)\n",
    "        except StopIteration:\n",
    "            loop = False\n",
    "            print(\"Iteration is stopped\")\n",
    "\n",
    "    df_ac = pd.concat(chunks, ignore_index=True)\n",
    "    df_ac = df_ac[(df_ac['user_id'] == user_id) & (df_ac['sku_id'] == item_id)]\n",
    "\n",
    "    return df_ac"
   ]
  },
  {
   "cell_type": "code",
   "execution_count": 95,
   "metadata": {
    "collapsed": true
   },
   "outputs": [],
   "source": [
    "def explore_user_item_via_time():\n",
    "    user_id = 266079\n",
    "    item_id = 138778\n",
    "    df_ac = []\n",
    "    df_ac.append(spec_ui_action_data(ACTION_201602_FILE, user_id, item_id))\n",
    "    df_ac.append(spec_ui_action_data(ACTION_201603_FILE, user_id, item_id))\n",
    "    df_ac.append(spec_ui_action_data(ACTION_201604_FILE, user_id, item_id))\n",
    "    df_ac = pd.concat(df_ac, ignore_index=False)\n",
    "    print(df_ac.sort_values(by='time'))"
   ]
  },
  {
   "cell_type": "code",
   "execution_count": 96,
   "metadata": {
    "collapsed": false
   },
   "outputs": [
    {
     "name": "stdout",
     "output_type": "stream",
     "text": [
      "Iteration is stopped\n",
      "Iteration is stopped\n",
      "Iteration is stopped\n",
      "    user_id  sku_id  type                 time\n",
      "0    266079  138778     1  2016-01-31 23:59:02\n",
      "1    266079  138778     6  2016-01-31 23:59:03\n",
      "15   266079  138778     6  2016-01-31 23:59:40\n"
     ]
    }
   ],
   "source": [
    "explore_user_item_via_time()"
   ]
  },
  {
   "cell_type": "markdown",
   "metadata": {},
   "source": [
    "预测数据部分: 2016-04-16到2016-04-20用户是否下单P中的商品，每个用户只会下单一个商品；\n",
    "由于我们需要预测16-20号五天用户的购买情况,那我们不妨分析下用户以5天为单位(周期为5)购买情况."
   ]
  }
 ],
 "metadata": {
  "kernelspec": {
   "display_name": "Python 2",
   "language": "python",
   "name": "python2"
  },
  "language_info": {
   "codemirror_mode": {
    "name": "ipython",
    "version": 2
   },
   "file_extension": ".py",
   "mimetype": "text/x-python",
   "name": "python",
   "nbconvert_exporter": "python",
   "pygments_lexer": "ipython2",
   "version": "2.7.13"
  }
 },
 "nbformat": 4,
 "nbformat_minor": 0
}
